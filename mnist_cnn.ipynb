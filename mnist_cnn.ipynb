{
  "nbformat": 4,
  "nbformat_minor": 0,
  "metadata": {
    "colab": {
      "name": "mnist_cnn.ipynb",
      "provenance": [],
      "collapsed_sections": []
    },
    "kernelspec": {
      "display_name": "Python 3",
      "name": "python3"
    },
    "language_info": {
      "name": "python"
    },
    "accelerator": "GPU"
  },
  "cells": [
    {
      "cell_type": "markdown",
      "metadata": {
        "id": "l-1t4e6I32ji"
      },
      "source": [
        "# **Import all the libs**"
      ]
    },
    {
      "cell_type": "code",
      "metadata": {
        "id": "kAOdEEmz2ECy"
      },
      "source": [
        "\n",
        "import numpy as np\n",
        "import keras\n",
        "import tensorflow as tf\n",
        "from keras.datasets import mnist\n",
        "from keras.models import Model\n",
        "from keras.layers import Dense, Input\n",
        "from keras.layers import Conv2D, MaxPooling2D, Dropout, Flatten, BatchNormalization\n",
        "from keras.utils import np_utils\n",
        "from keras import backend as k"
      ],
      "execution_count": 8,
      "outputs": []
    },
    {
      "cell_type": "markdown",
      "metadata": {
        "id": "ZvKt80Tw33my"
      },
      "source": [
        "# **Call Keras MNIST data and add them to train and test vars**\n",
        "\n"
      ]
    },
    {
      "cell_type": "code",
      "metadata": {
        "id": "EZJZ_43933zD"
      },
      "source": [
        "(x_train, y_train), (x_test, y_test) = mnist.load_data()\n"
      ],
      "execution_count": 9,
      "outputs": []
    },
    {
      "cell_type": "markdown",
      "metadata": {
        "id": "HDLXXzZf7Eom"
      },
      "source": [
        "# **Data Normalization**"
      ]
    },
    {
      "cell_type": "code",
      "metadata": {
        "id": "6Qm2_8zsGAw8"
      },
      "source": [
        "img_rows, img_cols=28, 28\n",
        " \n",
        "if k.image_data_format() == 'channels_first':\n",
        "   x_train = x_train.reshape(x_train.shape[0], 1, img_rows, img_cols)\n",
        "   x_test = x_test.reshape(x_test.shape[0], 1, img_rows, img_cols)\n",
        "   inpx = (1, img_rows, img_cols)\n",
        " \n",
        "else:\n",
        "   x_train = x_train.reshape(x_train.shape[0], img_rows, img_cols, 1)\n",
        "   x_test = x_test.reshape(x_test.shape[0], img_rows, img_cols, 1)\n",
        "   inpx = (img_rows, img_cols, 1)\n",
        " \n",
        "x_train = x_train.astype('float32')\n",
        "x_test = x_test.astype('float32')\n",
        "x_train /= 255\n",
        "x_test /= 255"
      ],
      "execution_count": 10,
      "outputs": []
    },
    {
      "cell_type": "markdown",
      "metadata": {
        "id": "Kzzbyi_o7ob0"
      },
      "source": [
        "# **One Hot Encoded**"
      ]
    },
    {
      "cell_type": "code",
      "metadata": {
        "id": "49M2SmjG7olU"
      },
      "source": [
        "y_train = np_utils.to_categorical(y_train)\n",
        "y_test = np_utils.to_categorical(y_test)"
      ],
      "execution_count": 11,
      "outputs": []
    },
    {
      "cell_type": "markdown",
      "metadata": {
        "id": "Xnlpr20971vk"
      },
      "source": [
        "# **Add & layers of CNN**"
      ]
    },
    {
      "cell_type": "code",
      "metadata": {
        "id": "YLNbw1Sv715G"
      },
      "source": [
        "\n",
        "inpx = Input(shape=inpx)\n",
        "layer1 = Conv2D(32, kernel_size=(3, 3), activation='relu')(inpx)\n",
        "layer2 = Conv2D(64, (3, 3), activation='relu')(layer1)\n",
        "layer3 = MaxPooling2D(pool_size=(3, 3))(layer2)\n",
        "layer4 = Dropout(0.5)(layer3)\n",
        "layer5 = Flatten()(layer4)\n",
        "layer6 = Dense(250, activation='relu')(layer5)\n",
        "layer7 = Dense(10, activation='softmax')(layer6)"
      ],
      "execution_count": 12,
      "outputs": []
    },
    {
      "cell_type": "markdown",
      "metadata": {
        "id": "23Hwad9BZ8CA"
      },
      "source": [
        "# **Calling compile and fit function**"
      ]
    },
    {
      "cell_type": "code",
      "metadata": {
        "colab": {
          "base_uri": "https://localhost:8080/"
        },
        "id": "_mqxGe2W3tn1",
        "outputId": "b388a12a-377e-45a8-8e4f-a24236ffc9f4"
      },
      "source": [
        "model = Model([inpx], layer7)\n",
        "model.compile(optimizer='adam',\n",
        "              loss=keras.losses.categorical_crossentropy,\n",
        "              metrics=['accuracy'])\n",
        " \n",
        "model.fit(x_train, y_train, epochs=100, batch_size=500,verbose=1, \n",
        "          validation_split=.2,callbacks=[tf.keras.callbacks.EarlyStopping(patience=3)])"
      ],
      "execution_count": 13,
      "outputs": [
        {
          "output_type": "stream",
          "text": [
            "Epoch 1/100\n",
            "96/96 [==============================] - 3s 26ms/step - loss: 0.8045 - accuracy: 0.7569 - val_loss: 0.1070 - val_accuracy: 0.9694\n",
            "Epoch 2/100\n",
            "96/96 [==============================] - 2s 22ms/step - loss: 0.1118 - accuracy: 0.9660 - val_loss: 0.0626 - val_accuracy: 0.9814\n",
            "Epoch 3/100\n",
            "96/96 [==============================] - 2s 22ms/step - loss: 0.0722 - accuracy: 0.9786 - val_loss: 0.0533 - val_accuracy: 0.9849\n",
            "Epoch 4/100\n",
            "96/96 [==============================] - 2s 22ms/step - loss: 0.0591 - accuracy: 0.9815 - val_loss: 0.0459 - val_accuracy: 0.9860\n",
            "Epoch 5/100\n",
            "96/96 [==============================] - 2s 22ms/step - loss: 0.0464 - accuracy: 0.9859 - val_loss: 0.0408 - val_accuracy: 0.9879\n",
            "Epoch 6/100\n",
            "96/96 [==============================] - 2s 22ms/step - loss: 0.0384 - accuracy: 0.9877 - val_loss: 0.0393 - val_accuracy: 0.9890\n",
            "Epoch 7/100\n",
            "96/96 [==============================] - 2s 23ms/step - loss: 0.0353 - accuracy: 0.9885 - val_loss: 0.0364 - val_accuracy: 0.9899\n",
            "Epoch 8/100\n",
            "96/96 [==============================] - 2s 22ms/step - loss: 0.0327 - accuracy: 0.9892 - val_loss: 0.0367 - val_accuracy: 0.9895\n",
            "Epoch 9/100\n",
            "96/96 [==============================] - 2s 22ms/step - loss: 0.0273 - accuracy: 0.9909 - val_loss: 0.0359 - val_accuracy: 0.9893\n",
            "Epoch 10/100\n",
            "96/96 [==============================] - 2s 23ms/step - loss: 0.0264 - accuracy: 0.9915 - val_loss: 0.0316 - val_accuracy: 0.9916\n",
            "Epoch 11/100\n",
            "96/96 [==============================] - 2s 23ms/step - loss: 0.0235 - accuracy: 0.9930 - val_loss: 0.0331 - val_accuracy: 0.9898\n",
            "Epoch 12/100\n",
            "96/96 [==============================] - 2s 22ms/step - loss: 0.0213 - accuracy: 0.9928 - val_loss: 0.0319 - val_accuracy: 0.9908\n",
            "Epoch 13/100\n",
            "96/96 [==============================] - 2s 22ms/step - loss: 0.0181 - accuracy: 0.9943 - val_loss: 0.0296 - val_accuracy: 0.9918\n",
            "Epoch 14/100\n",
            "96/96 [==============================] - 2s 22ms/step - loss: 0.0166 - accuracy: 0.9943 - val_loss: 0.0330 - val_accuracy: 0.9904\n",
            "Epoch 15/100\n",
            "96/96 [==============================] - 2s 22ms/step - loss: 0.0149 - accuracy: 0.9949 - val_loss: 0.0325 - val_accuracy: 0.9918\n",
            "Epoch 16/100\n",
            "96/96 [==============================] - 2s 24ms/step - loss: 0.0142 - accuracy: 0.9950 - val_loss: 0.0361 - val_accuracy: 0.9904\n"
          ],
          "name": "stdout"
        },
        {
          "output_type": "execute_result",
          "data": {
            "text/plain": [
              "<keras.callbacks.History at 0x7fa7d94d6390>"
            ]
          },
          "metadata": {
            "tags": []
          },
          "execution_count": 13
        }
      ]
    },
    {
      "cell_type": "markdown",
      "metadata": {
        "id": "e62COnJMaHO0"
      },
      "source": [
        "# **Showing loss function and Accuracy**"
      ]
    },
    {
      "cell_type": "code",
      "metadata": {
        "colab": {
          "base_uri": "https://localhost:8080/"
        },
        "id": "uP6ymgwN4Li7",
        "outputId": "0e6040f9-d7e3-4865-98f8-5f78601186fb"
      },
      "source": [
        "\n",
        "score = model.evaluate(x_test, y_test, verbose=0)\n",
        "print('loss=', score[0])\n",
        "print('accuracy=', score[1])"
      ],
      "execution_count": 14,
      "outputs": [
        {
          "output_type": "stream",
          "text": [
            "loss= 0.030375970527529716\n",
            "accuracy= 0.9911999702453613\n"
          ],
          "name": "stdout"
        }
      ]
    }
  ]
}